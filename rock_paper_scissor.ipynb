{
 "cells": [
  {
   "cell_type": "code",
   "execution_count": 1,
   "id": "71468dc1",
   "metadata": {},
   "outputs": [],
   "source": [
    "class Participant:\n",
    "    def __init__(self, name):\n",
    "        self.name = name\n",
    "        self.points = 0\n",
    "        self.choice = \"\"\n",
    "    def choose(self):\n",
    "        self.choice = input(\"{name}, select rock, paper or scissor: \".format(name= self.name))\n",
    "        print(\"{name} selects {choice}\".format(name=self.name, choice = self.choice))\n",
    "    def toNumericalChoice(self):\n",
    "        switcher = {\n",
    "            \"rock\": 0,\n",
    "            \"paper\": 1,\n",
    "            \"scissor\": 2\n",
    "        }\n",
    "        return switcher[self.choice]\n",
    "    def incrementPoint(self):\n",
    "        self.points += 1\n",
    "\n",
    "class GameRound:\n",
    "    def __init__(self, p1, p2):\n",
    "        self.rules = [\n",
    "            [0, -1, 1],\n",
    "            [1, 0, -1],\n",
    "            [-1, 1, 0]\n",
    "        ]\n",
    "\n",
    "        p1.choose()\n",
    "        p2.choose()\n",
    "        result = self.compareChoices(p1,p2)\n",
    "        print(\"Round resulted in a {result}\".format(result = self.getResultAsString(result) ))\n",
    "        if result > 0:\n",
    "           p1.incrementPoint()\n",
    "        elif result < 0:\n",
    "           p2.incrementPoint()\n",
    "           \n",
    "    def compareChoices(self):\n",
    "        print(\"implement\")\n",
    "    def awardPoints(self):\n",
    "        print(\"implement\")\n",
    "    def compareChoices(self, p1, p2):\n",
    "        return self.rules[p1.toNumericalChoice()][p2.toNumericalChoice()]\n",
    "    def getResultAsString(self, result):\n",
    "        res = {\n",
    "            0: \"draw\",\n",
    "            1: \"win\",\n",
    "            -1: \"loss\"\n",
    "        }       \n",
    "        return res[result]\n",
    "\n",
    "class Game:\n",
    "    def __init__(self):\n",
    "        self.endGame = False\n",
    "        self.participant = Participant(\"Spock\")\n",
    "        self.secondParticipant = Participant(\"Kirk\")\n",
    "    def start(self):\n",
    "        while not self.endGame:\n",
    "            GameRound(self.participant, self.secondParticipant)\n",
    "            self.checkEndCondition()\n",
    "        \n",
    "    def checkEndCondition(self):\n",
    "        answer = input(\"Continue game y/n: \")\n",
    "        if answer == 'y':\n",
    "            GameRound(self.participant, self.secondParticipant)\n",
    "            self.checkEndCondition()\n",
    "        else:\n",
    "            print(\"Game ended, {p1name} has {p1points}, and {p2name} has {p2points}\".format(p1name = self.participant.name, p1points= self.participant.points, p2name=self.secondParticipant.name, p2points=self.secondParticipant.points))\n",
    "            self.determineWinner()\n",
    "            self.endGame = True\n",
    "    def determineWinner(self):\n",
    "        resultString = \"It's a Draw\"\n",
    "        if self.participant.points > self.secondParticipant.points:\n",
    "            resultString = \"Winner is {name}\".format(name=self.participant.name)\n",
    "        elif self.participant.points < self.secondParticipant.points:\n",
    "            resultString = \"Winner is {name}\".format(name=self.secondParticipant.name)\n",
    "        print(resultString)"
   ]
  },
  {
   "cell_type": "code",
   "execution_count": 2,
   "id": "b51b29e9",
   "metadata": {},
   "outputs": [],
   "source": [
    "game = Game()"
   ]
  },
  {
   "cell_type": "code",
   "execution_count": 3,
   "id": "90a1a9c5",
   "metadata": {},
   "outputs": [
    {
     "name": "stdout",
     "output_type": "stream",
     "text": [
      "Spock selects rock\n",
      "Kirk selects paper\n",
      "Round resulted in a loss\n",
      "Game ended, Spock has 0, and Kirk has 1\n",
      "Winner is Kirk\n"
     ]
    }
   ],
   "source": [
    "game.start()"
   ]
  },
  {
   "cell_type": "code",
   "execution_count": null,
   "id": "3b27054e",
   "metadata": {},
   "outputs": [],
   "source": []
  }
 ],
 "metadata": {
  "kernelspec": {
   "display_name": "Python 3.9.12 ('base')",
   "language": "python",
   "name": "python3"
  },
  "language_info": {
   "codemirror_mode": {
    "name": "ipython",
    "version": 3
   },
   "file_extension": ".py",
   "mimetype": "text/x-python",
   "name": "python",
   "nbconvert_exporter": "python",
   "pygments_lexer": "ipython3",
   "version": "3.9.12"
  },
  "vscode": {
   "interpreter": {
    "hash": "b184f24dc1031dcda6c1667dbef7bf16935adfe5da8007658e70964ae0c0b8aa"
   }
  }
 },
 "nbformat": 4,
 "nbformat_minor": 5
}
