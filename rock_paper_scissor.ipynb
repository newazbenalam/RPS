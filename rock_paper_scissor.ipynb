{
 "cells": [
  {
   "cell_type": "code",
   "execution_count": null,
   "id": "71468dc1",
   "metadata": {},
   "outputs": [],
   "source": [
    "class Participant:\n",
    "    def __init__(self, name):\n",
    "        self.name = name\n",
    "        self.points = 0\n",
    "        self.choice = \"\"\n",
    "    def choose(self):\n",
    "        self.choice = input(\"{name}, select rock, paper or scissor: \".format(name= self.name))\n",
    "        print(\"{name} selects {choice}\".format(name=self.name, choice = self.choice))\n",
    "\n",
    "class GameRound:\n",
    "    def __init__(self, p1, p2):\n",
    "        p1.choose()\n",
    "        p2.choose()\n",
    "    def compareChoices(self):\n",
    "        print(\"implement\")\n",
    "    def awardPoints(self):\n",
    "        print(\"implement\")\n",
    "\n",
    "class Game:\n",
    "    def __init__(self):\n",
    "        self.endGame = False\n",
    "        self.participant = Participant(\"Spock\")\n",
    "        self.secondParticipant = Participant(\"Kirk\")\n",
    "    def start(self):\n",
    "        game_round = GameRound(self.participant, self.secondParticipant)\n",
    "\n",
    "    def checkEndCondition(self):\n",
    "        print(\"implement\")\n",
    "    def determineWinner(self):\n",
    "        print(\"implement\")"
   ]
  },
  {
   "cell_type": "code",
   "execution_count": null,
   "id": "b51b29e9",
   "metadata": {},
   "outputs": [],
   "source": [
    "game = Game()"
   ]
  },
  {
   "cell_type": "code",
   "execution_count": null,
   "id": "90a1a9c5",
   "metadata": {},
   "outputs": [],
   "source": [
    "game.start()"
   ]
  },
  {
   "cell_type": "code",
   "execution_count": null,
   "id": "3b27054e",
   "metadata": {},
   "outputs": [],
   "source": []
  }
 ],
 "metadata": {
  "kernelspec": {
   "display_name": "Python 3.9.12 ('base')",
   "language": "python",
   "name": "python3"
  },
  "language_info": {
   "codemirror_mode": {
    "name": "ipython",
    "version": 3
   },
   "file_extension": ".py",
   "mimetype": "text/x-python",
   "name": "python",
   "nbconvert_exporter": "python",
   "pygments_lexer": "ipython3",
   "version": "3.9.12"
  },
  "vscode": {
   "interpreter": {
    "hash": "b184f24dc1031dcda6c1667dbef7bf16935adfe5da8007658e70964ae0c0b8aa"
   }
  }
 },
 "nbformat": 4,
 "nbformat_minor": 5
}
